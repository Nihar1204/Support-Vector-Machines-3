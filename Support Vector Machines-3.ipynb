{
 "cells": [
  {
   "cell_type": "markdown",
   "metadata": {},
   "source": [
    "## Support Vector Machines Assignment-3"
   ]
  },
  {
   "cell_type": "code",
   "execution_count": 1,
   "metadata": {},
   "outputs": [],
   "source": [
    "# Q1. In order to predict house price based on several characteristics, such as location, square footage,\n",
    "# number of bedrooms, etc., you are developing an SVM regression model. Which regression metric in this\n",
    "# situation would be the best to employ?\n",
    "\n",
    "# Ans:\n",
    "\n",
    "# The best metric to deploy is:\n",
    "# If we want an error measure that is easy to interpret and penalizes large errors more than small ones then we\n",
    "# can opt for RMSE.\n",
    "# To know the performance of the model we can choose R-squared, if we want to understand\n",
    "# the overall goodness of fit. It ranges between 0 (no predictive power) and 1 (perfect fit)."
   ]
  },
  {
   "cell_type": "code",
   "execution_count": 2,
   "metadata": {},
   "outputs": [],
   "source": [
    "# Q2. You have built an SVM regression model and are trying to decide between using MSE or R-squared as\n",
    "# your evaluation metric. Which metric would be more appropriate if your goal is to predict the actual price\n",
    "# of a house as accurately as possible?\n",
    "\n",
    "# Ans:\n",
    "\n",
    "# MSE (or RMSE) provides a numerical value representing the average squared error in amounts, \n",
    "# making it more useful for real-world decision-making.\n",
    "# Lower MSE means my predictions are closer to actual house prices.\n",
    "# Whereas R-squared measures how well the model explains variance but does not tell me how far my predictions\n",
    "# are from actual values.\n",
    "# So I'll use MSE or RMSE."
   ]
  },
  {
   "cell_type": "code",
   "execution_count": 3,
   "metadata": {},
   "outputs": [],
   "source": [
    "# Q3. You have a dataset with a significant number of outliers and are trying to select an appropriate\n",
    "# regression metric to use with your SVM model. Which metric would be the most appropriate in this\n",
    "# scenario?\n",
    "\n",
    "# Ans:\n",
    "\n",
    "# MAE can be used to handle outliers in regression."
   ]
  },
  {
   "cell_type": "code",
   "execution_count": 4,
   "metadata": {},
   "outputs": [],
   "source": [
    "# Q4. You have built an SVM regression model using a polynomial kernel and are trying to select the best\n",
    "# metric to evaluate its performance. You have calculated both MSE and RMSE and found that both values\n",
    "# are very close. Which metric should you choose to use in this case?\n",
    "\n",
    "# Ans:\n",
    "\n",
    "# If MSE (Mean Squared Error) and RMSE (Root Mean Squared Error) are very close, we can use RMSE as \n",
    "# the preferred metric.\n",
    "# Because:\n",
    "# Interpretable in the Original Units\n",
    "# RMSE has the same unit as the target variable (e.g. if predicting house prices in $1000s, RMSE is also in $1000s).\n",
    "# MSE, on the other hand, squares the error, making it less interpretable.\n",
    "\n",
    "# Magnitude of Error Matters\n",
    "# If errors are small, MSE and RMSE will be similar.\n",
    "# RMSE provides a better understanding of how far predictions are from actual values in real-world units.\n",
    "\n",
    "# More Common in Regression Problems\n",
    "# Many ML practitioners and industry models use RMSE as a standard because it's easier to explain to stakeholders."
   ]
  },
  {
   "cell_type": "code",
   "execution_count": 5,
   "metadata": {},
   "outputs": [],
   "source": [
    "# Q5. You are comparing the performance of different SVM regression models using different kernels (linear,\n",
    "# polynomial, and RBF) and are trying to select the best evaluation metric. Which metric would be most\n",
    "# appropriate if your goal is to measure how well the model explains the variance in the target variable?\n",
    "\n",
    "# Ans:\n",
    "\n",
    "# If your goal is to measure how well the model explains the variance in the target variable, \n",
    "# the best metric to use is R-squared.\n",
    "\n",
    "# Measures Variance Explained\n",
    "\n",
    "# It tells us how much of the variance in the target variable is explained by the model.\n",
    "# Higher R² → Better model performance.\n",
    "# Allows Comparison Across Models\n",
    "\n",
    "# Helps compare different kernels (linear, polynomial, RBF) to see which one generalizes better.\n",
    "# Example: If\n",
    "# Linear SVM: R-squared = 0.85\n",
    "# Polynomial SVM: R-squared = 0.92\n",
    "# RBF SVM: R-squared = 0.95\n",
    "# then RBF is the best choice as it explains more variance.\n",
    "\n",
    "# Scale-Free\n",
    "# Unlike MSE or RMSE, R² is a relative measure, meaning it does not depend on the scale of the target variable.\n"
   ]
  },
  {
   "cell_type": "code",
   "execution_count": null,
   "metadata": {},
   "outputs": [],
   "source": []
  }
 ],
 "metadata": {
  "kernelspec": {
   "display_name": "base",
   "language": "python",
   "name": "python3"
  },
  "language_info": {
   "codemirror_mode": {
    "name": "ipython",
    "version": 3
   },
   "file_extension": ".py",
   "mimetype": "text/x-python",
   "name": "python",
   "nbconvert_exporter": "python",
   "pygments_lexer": "ipython3",
   "version": "3.12.4"
  }
 },
 "nbformat": 4,
 "nbformat_minor": 2
}
